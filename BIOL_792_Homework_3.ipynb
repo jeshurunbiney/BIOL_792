{
 "cells": [
  {
   "cell_type": "markdown",
   "metadata": {},
   "source": [
    "# Jypyter Notebooks and Python Refresh Homework 3\n",
    "We are going to do the Python Refresh Homework in a juypyter Notebook. In this homework we will review the basic principles of python programming. You will work through a few questions and build some scripts. You will need the Bloom et al Dataset found in this repository. For each question add a cell to put your answer in either as a text cell or a code cell following the question.\n",
    "\n",
    "### Markdown\n",
    "Here is a [markdown refresh](https://programminghistorian.org/en/lessons/getting-started-with-markdown)\n",
    "\n",
    "### General concepts to refresh and lessons to review if you need them:\n",
    "\n",
    "Here is a nice [Python_Refresh](https://pythonforbiologists.com/introduction) that goes over the majority of the basic python commands.\n",
    "\n",
    "Remember these Primers from Last Semester\n",
    "\n",
    "[Python_Primer1](https://github.com/tparchman/BIOL792_course_site/blob/master/week6_pythonI/python_1_primer.md) \n",
    "\n",
    "[Lists_for_loops](https://github.com/tparchman/BIOL792_course_site/blob/master/week7_pythonII/python_2_primer.md)\n",
    "\n",
    "[Input_Output](https://github.com/tparchman/BIOL792_course_site/blob/master/week8_python3/python_3_primer.md)\n",
    "\n",
    "[Dictionaries](https://github.com/tparchman/BIOL792_course_site/blob/master/week11_python6/primer_python6.md)\n",
    "\n",
    "\n",
    "### Remember these Common commands as you work through this exercise\n",
    "\tdata types\n",
    "\tlists and dictionaries \n",
    "\tif while and for loops\n",
    "\treading files\n",
    "\n"
   ]
  },
  {
   "cell_type": "markdown",
   "metadata": {},
   "source": [
    "## Part I: Questions"
   ]
  },
  {
   "cell_type": "markdown",
   "metadata": {},
   "source": [
    "1.\tName one of the basic building blocks of programming and a small definition."
   ]
  },
  {
   "cell_type": "markdown",
   "metadata": {},
   "source": [
    "**Execute** – to begin and carry out the operation of a program (run)\n"
   ]
  },
  {
   "cell_type": "markdown",
   "metadata": {},
   "source": [
    "2.\tMatch the data type to the appropriate data\n",
    "    \n",
    "    **Data type:** string, integer, boolean, floating point\n",
    "    \n",
    "    **Data:** true, 123, 'I am a programmer', 34.63221\n"
   ]
  },
  {
   "cell_type": "markdown",
   "metadata": {},
   "source": [
    "**STRING**: \"I am a programmer'\n",
    "**INTEGER**: 123\n",
    "**BOOLEAN**:true\n",
    "**FLOATING POINT**:34.63221"
   ]
  },
  {
   "cell_type": "markdown",
   "metadata": {},
   "source": [
    "3.\tWhat would I get if I did tried to add these to numbers together ```123``` and ```5```.\n",
    "\t\t\n",
    "\t\ta) if the numbers were formatted as strings\n",
    "\t\t\n",
    "\t\tb) if they were formatted as integers"
   ]
  },
  {
   "cell_type": "code",
   "execution_count": 45,
   "metadata": {},
   "outputs": [
    {
     "name": "stdout",
     "output_type": "stream",
     "text": [
      "a)  1235\n",
      "b)  128\n"
     ]
    }
   ],
   "source": [
    "# a) formatted as strings\n",
    "x = 123\n",
    "y= 5\n",
    "z= str(x) + str(y)\n",
    "\n",
    "print(\"a) \",z)\n",
    "\n",
    "# b) formatted as intergers\n",
    "x = 123\n",
    "y = 5\n",
    "z = int(x) + int(y)\n",
    "\n",
    "print(\"b) \",z)\n"
   ]
  },
  {
   "cell_type": "markdown",
   "metadata": {},
   "source": [
    "4.\tLists, also called vectors, are one dimensional arrays and are a series of items. From the following list what would the question ```apple_list[3]``` return?  Remember we refer to items in a list by their position. Hint – remember how computers count.\n",
    "\t\t\n",
    "\t\t```apple_list=[‘banana’,’pear’,’kumquat’,’pomegranate’,’passion fruit’]```"
   ]
  },
  {
   "cell_type": "markdown",
   "metadata": {},
   "source": [
    "It would return the 4th item which is **\"pomegranate\"** in the list giving since it starts counting from 0\n",
    "that is [0,1,2,3,4,5]"
   ]
  },
  {
   "cell_type": "markdown",
   "metadata": {},
   "source": [
    "5.\tName a difference between lists and dictionaries?"
   ]
  },
  {
   "cell_type": "markdown",
   "metadata": {},
   "source": [
    "A **list** is an ordered sequence of objects, whereas **dictionaries** are unordered sets. However, the main difference is that items in dictionaries are accessed via keys and not via their position."
   ]
  },
  {
   "cell_type": "markdown",
   "metadata": {},
   "source": [
    "6.\tWhat would you get from this question from the following dictionary:  ```fruit_dict[‘pear’]```\n",
    "```\t\t\n",
    "\t\tfruit_dict = {}\n",
    "\t\tfruit_dict[‘apple’]=10\n",
    "\t\tfruit_dict[‘pear’] = 3\n",
    "\t\tfruit_dict[‘walnut’]=216\n",
    "```\n",
    "or in another way\n",
    "\n",
    "\n",
    "```\n",
    "fruit_dict = {\n",
    "    'apple':10,\n",
    "    'pear':3,\n",
    "    'walnut':216,\n",
    "}\n",
    "\n",
    "print(fruit_dict)\n",
    "```\n",
    "\n"
   ]
  },
  {
   "cell_type": "code",
   "execution_count": 40,
   "metadata": {},
   "outputs": [
    {
     "name": "stdout",
     "output_type": "stream",
     "text": [
      "{'apple': 10, 'pear': 3, 'walnut': 216}\n"
     ]
    }
   ],
   "source": [
    "fruit_dict = {\n",
    "    'apple':10,\n",
    "    'pear':3,\n",
    "    'walnut':216,\n",
    "}\n",
    "\n",
    "print(fruit_dict)"
   ]
  },
  {
   "cell_type": "code",
   "execution_count": 39,
   "metadata": {},
   "outputs": [
    {
     "name": "stdout",
     "output_type": "stream",
     "text": [
      "{'apple': 10, 'pear': 3, 'walnut': 216}\n"
     ]
    }
   ],
   "source": [
    "fruit_dict = {}\n",
    "fruit_dict['apple']=10\n",
    "fruit_dict['pear'] = 3\n",
    "fruit_dict['walnut']=216\n",
    "print(fruit_dict)"
   ]
  },
  {
   "cell_type": "markdown",
   "metadata": {},
   "source": [
    "7.\tIn python what does the function ```.replace()``` do?"
   ]
  },
  {
   "cell_type": "markdown",
   "metadata": {},
   "source": [
    "The ```.replace()``` method returns a copy of a string. This means that the old substring remains the same, but a new copy gets created – with all of the old text having been replaced by the new text."
   ]
  },
  {
   "cell_type": "markdown",
   "metadata": {},
   "source": [
    "8.\tHow do you print something in python?  For example write a print statement to print “hello world!”"
   ]
  },
  {
   "cell_type": "markdown",
   "metadata": {},
   "source": [
    "The ```print()``` function prints the specified message to the screen, or other standard output device.\n",
    "\n",
    "The message can be a string, or any other object, the object will be converted into a string before written to the screen."
   ]
  },
  {
   "cell_type": "code",
   "execution_count": 42,
   "metadata": {},
   "outputs": [
    {
     "name": "stdout",
     "output_type": "stream",
     "text": [
      "hello world!\n"
     ]
    }
   ],
   "source": [
    "print(\"hello world!\")"
   ]
  },
  {
   "cell_type": "markdown",
   "metadata": {},
   "source": [
    "9.\tName one place you can go to get help with python?"
   ]
  },
  {
   "cell_type": "markdown",
   "metadata": {},
   "source": [
    "One place you can go to get help with Python is the official Python documentation website at https://docs.python.org. The Python documentation provides a comprehensive and detailed reference manual for the Python programming language, including a tutorial for beginners, a library reference, and a language reference. An official Python Community forum hosted at https://discuss.python.org. can help with issues you run to when working with python"
   ]
  },
  {
   "cell_type": "markdown",
   "metadata": {},
   "source": [
    "10.\tWhat is an ```if``` statement and when would you use one?"
   ]
  },
  {
   "cell_type": "markdown",
   "metadata": {},
   "source": [
    "An if statement executes some code if its boolean value is true , and it skips that code if the boolean value is false. We would use an if statement when we want our program to know whether or not it should execute a block of code"
   ]
  },
  {
   "cell_type": "markdown",
   "metadata": {},
   "source": [
    "11.\tFrom this list:  ```container_list = [‘can’,’jar’,’hat’]``` What would be returned from this: ```container_list[0:2]```.  Hint: Remember one number is inclusive and one exclusive."
   ]
  },
  {
   "cell_type": "code",
   "execution_count": 44,
   "metadata": {},
   "outputs": [
    {
     "data": {
      "text/plain": [
       "['can', 'jar']"
      ]
     },
     "execution_count": 44,
     "metadata": {},
     "output_type": "execute_result"
    }
   ],
   "source": [
    "container_list = ['can','jar','hat'] \n",
    "container_list[0:2]"
   ]
  },
  {
   "cell_type": "markdown",
   "metadata": {},
   "source": [
    "12.\tWhat is the difference between an ```if``` statement and a ```while``` loop?\n"
   ]
  },
  {
   "cell_type": "markdown",
   "metadata": {},
   "source": [
    " An if statement gives you once the possibility to do something or not (or something else). \n",
    "Whereas a while loop does things as long as the condition is true."
   ]
  },
  {
   "cell_type": "markdown",
   "metadata": {},
   "source": [
    "13.\tWhat would you get with the command ```fruit_dict.keys()```  after entering this dictionary:  \n",
    "\t\tfruit_dict = {}\n",
    "\t\tfruit_dict[‘apple’]=10\n",
    "\t\tfruit_dict[‘pear’] = 3\n",
    "\t\tfruit_dict[‘walnut’]=216"
   ]
  },
  {
   "cell_type": "code",
   "execution_count": 47,
   "metadata": {},
   "outputs": [
    {
     "data": {
      "text/plain": [
       "dict_keys(['apple', 'pear', 'walnut'])"
      ]
     },
     "execution_count": 47,
     "metadata": {},
     "output_type": "execute_result"
    }
   ],
   "source": [
    "fruit_dict = {} \n",
    "fruit_dict['apple']=10 \n",
    "fruit_dict['pear'] = 3 \n",
    "fruit_dict['walnut']=216\n",
    "fruit_dict.keys()"
   ]
  },
  {
   "cell_type": "markdown",
   "metadata": {},
   "source": [
    "14.\tIn this statement: ```InFileName = open(InFileName, ‘r’)``` what does the ‘r’ indicate ?"
   ]
  },
  {
   "cell_type": "markdown",
   "metadata": {},
   "source": [
    "In the statement ```InFileName = open(InFileName, 'r')```, the 'r' indicates that the file InFileName should be opened in read mode. In Python, the ```open()``` function is used to open a file and returns a file object. The first argument to ```open()``` is the name of the file, and the second argument is the mode in which the file should be opened."
   ]
  },
  {
   "cell_type": "markdown",
   "metadata": {},
   "source": [
    "15.\tWhat does this command do? ```Line.strip(‘\\n’)``` why would you use it when printing out lines to the screen?"
   ]
  },
  {
   "cell_type": "markdown",
   "metadata": {},
   "source": [
    "The ```Line.strip('\\n')``` command removes the newline character ```('\\n')``` from the end of the string Line. The ```strip()``` method in Python is used to remove characters from the beginning and/or end of a string, and when passed a character argument like ```'\\n'```, it removes all occurrences of that character from the beginning and/or end of the string.\n",
    "\n"
   ]
  },
  {
   "cell_type": "markdown",
   "metadata": {},
   "source": [
    "16.\tHow would you split a line from a csv file into a list"
   ]
  },
  {
   "cell_type": "markdown",
   "metadata": {},
   "source": [
    "To do so, I can use ```csv. DictReader()``` . As the name suggests, it parses each row as a dictionary, using the header row to determine column names. If you don't have a header row, you may specify the fieldnames argument. I can also use split a line from a CSV file into a list using the ```split()``` method in Python"
   ]
  },
  {
   "cell_type": "markdown",
   "metadata": {},
   "source": [
    "## Part II:  Practice Scripts\n",
    "Below each question write the name of the script so I can find them. All scripts should be documented with in-line documentation."
   ]
  },
  {
   "cell_type": "markdown",
   "metadata": {},
   "source": [
    "1.\tCreate a documented python script that would \n",
    "\n",
    "\t\t**a.** take this number 112345678911234566 and count the number of 2s in the string and print out the number. \n",
    "\n",
    "\t\t**b.** take a sentence from user input, turn it all to lowercase letters and remove the spaces and count the length and print out the length.  You choose the sentence. \n"
   ]
  },
  {
   "cell_type": "code",
   "execution_count": null,
   "metadata": {},
   "outputs": [
    {
     "name": "stdout",
     "output_type": "stream",
     "text": [
      "Number of 2s in 112345678911234566: 2\n"
     ]
    }
   ],
   "source": [
    "def count_2s_in_string(num):\n",
    "    \"\"\"\n",
    "    This function takes a number as input and counts the number of 2s in the string representation of the number.\n",
    "    \n",
    "    Parameters:\n",
    "        num (int): The input number to count the number of 2s in its string representation.\n",
    "    \n",
    "    Returns:\n",
    "        int: The number of 2s in the string representation of the input number.\n",
    "    \"\"\"\n",
    "    count = 0\n",
    "    for digit in str(num):\n",
    "        if digit == '2':\n",
    "            count += 1\n",
    "    return count\n",
    "\n",
    "\n",
    "def count_chars_in_sentence():\n",
    "    \"\"\"\n",
    "    This function takes a sentence from user input, converts it to lowercase, removes spaces, and counts the length of the resulting string.\n",
    "    \n",
    "    Returns:\n",
    "        int: The length of the sentence after converting it to lowercase and removing spaces.\n",
    "    \"\"\"\n",
    "    sentence = input(\"Enter a sentence: \")\n",
    "    sentence = sentence.lower().replace(' ', '')\n",
    "    return len(sentence)\n",
    "\n",
    "\n",
    "# example usage\n",
    "num = 112345678911234566\n",
    "num_of_2s = count_2s_in_string(num)\n",
    "print(f\"Number of 2s in {num}: {num_of_2s}\")\n",
    "\n",
    "sentence_length = count_chars_in_sentence()\n",
    "print(f\"The length of the sentence after converting it to lowercase and removing spaces: {sentence_length}\")\n"
   ]
  },
  {
   "cell_type": "markdown",
   "metadata": {},
   "source": [
    "2.\tCreate a documented python script that will do the following two things. For each task, first write the pseudocode, comment out the pseudocode and beneath the pseudocode write the script.\n",
    "\n",
    "\t\t**a.** Create a list of numbers (any numbers you like). Then loop through the items in the list adding 1 to every number and print those numbers.\n",
    "\n",
    "\t\t**b.** Create a dictionary of animals and their sizes (make up whatever you want). Print out the keys of the dictionary. Make a list of all the animals and then write an if else statement to print out the animal name and the word “big” if the weight is over 20 grams and the word “small” if the weight is less than 20 grams. "
   ]
  },
  {
   "cell_type": "code",
   "execution_count": null,
   "metadata": {},
   "outputs": [],
   "source": [
    "\"\"\"Pseudocode:\n",
    "\n",
    "1. Create a list of numbers.\n",
    "2. Loop through each number in the list.\n",
    "3. Add 1 to each number.\n",
    "4. Print the updated numbers.\"\"\"\n",
    "\n",
    "# Create a list of numbers\n",
    "numbers = [2, 7, 12, 15, 20]\n",
    "\n",
    "# Loop through each number in the list\n",
    "for number in numbers:\n",
    "    \n",
    "    updated_number = number + 1   # Add 1 to each number\n",
    "    \n",
    "    print(updated_number)  # Print the updated number\n",
    "\n"
   ]
  },
  {
   "cell_type": "code",
   "execution_count": null,
   "metadata": {},
   "outputs": [],
   "source": [
    "\"\"\"Pseudocode:\n",
    "\n",
    "1. Create a dictionary of animals and their sizes.\n",
    "2. Print out the keys of the dictionary.\n",
    "3. Create a list of all the animals.\n",
    "4. Loop through each animal in the list.\n",
    "5. Check if the weight of the animal is greater than 20 grams.\n",
    "6. If the weight is greater than 20 grams, print the animal name and \"big\".\n",
    "7. If the weight is less than or equal to 20 grams, print the animal name and \"small\".\"\"\"\n",
    "\n",
    "# Create a dictionary of animals and their sizes\n",
    "animal_sizes = {\n",
    "    'elephant': 5000,\n",
    "    'giraffe': 800,\n",
    "    'mouse': 0.02,\n",
    "    'squirrel': 0.3,\n",
    "    'whale': 40000\n",
    "}\n",
    "\n",
    "\n",
    "print(animal_sizes.keys())          # Print out the keys of the dictionary\n",
    "\n",
    "animals = list(animal_sizes.keys()) # Create a list of all the animals\n",
    "\n",
    "\n",
    "for animal in animals:              # Loop through each animal in the list\n",
    "   \n",
    "    if animal_sizes[animal] > 20:   # Check if the weight of the animal is greater than 20 grams\n",
    "       \n",
    "        print(animal, \"big\")        # If the weight is greater than 20 grams, print the animal name and \"big\"\n",
    "    else:\n",
    "       \n",
    "        print(animal, \"small\")      # If the weight is less than or equal to 20 grams, print the animal name and \"small\"\n",
    "\n"
   ]
  },
  {
   "cell_type": "markdown",
   "metadata": {},
   "source": [
    "3.\tCreate a documented python script that will open up the file “Bloom_etal_2018_Reduced_Dataset”.  Read through the file and print out the taxon name and their diadromous status. Add up all of the log body sizes and print out the total log body size for all the individuals in the file.  "
   ]
  },
  {
   "cell_type": "code",
   "execution_count": null,
   "metadata": {},
   "outputs": [],
   "source": [
    "read_file = open(\"Bloom_etal_2018_Reduced_Dataset.csv\",'r')\n",
    "for line in read_file:\n",
    "    line = line.strip(\"\\n\")\n",
    "    list_of_each_line = line.split(',')\n",
    "    taxa_name = list_of_each_line[0]\n",
    "    dia_or_not = list_of_each_line[3]\n",
    "    log_body_size_each = list_of_each_line[1]\n",
    "    \n",
    "    #print(taxa_name, dia_or_not, log_body_size_each)\n",
    "    #print (list_of_each_line)\n",
    "    #print (log_body_size_each)\n",
    "    \n"
   ]
  },
  {
   "cell_type": "code",
   "execution_count": 15,
   "metadata": {},
   "outputs": [
    {
     "name": "stdout",
     "output_type": "stream",
     "text": [
      "Alosa_alabamae diadromous 1.707570176\n",
      "Alosa_alosa diadromous 1.77815125\n",
      "Alosa_fallax diadromous 1.77815125\n",
      "Alosa_mediocris diadromous 1.77815125\n",
      "Alosa_pseudoharengus diadromous 1.602059991\n",
      "Alosa_sapidissima diadromous 1.790285164\n",
      "Amazonsprattus_scintilla non-diadromous 0.301029996\n",
      "Anchoa_chamensis non-diadromous 0.77815125\n",
      "Anchoa_cubana non-diadromous 0.84509804\n",
      "Anchoa_delicatissima non-diadromous 0.903089987\n",
      "Anchoa_lamprotaenia non-diadromous 0.963787827\n",
      "Anchoa_lyolepis non-diadromous 0.84509804\n",
      "Anchoa_parva non-diadromous 0.77815125\n",
      "Anchoa_schofieldi non-diadromous 0.792391689\n",
      "Anchovia_surinamensis non-diadromous 1.093421685\n",
      "Anchoviella_balboae non-diadromous 0.857332496\n",
      "Anchoviella_brevirostris non-diadromous 0.857332496\n",
      "Anchoviella_jamesi non-diadromous 0.698970004\n",
      "Anchoviella_lepidentostole diadromous 1.064457989\n",
      "Anchoviella_manamensis non-diadromous 0.397940009\n",
      "Anodontostoma_chacunda diadromous 1.342422681\n",
      "Cetengraulis_edentulus non-diadromous 1.113943352\n",
      "Chirocentrodon_bleekerianus non-diadromous 0.954242509\n",
      "Clupeichthys_perakensis non-diadromous 0.602059991\n",
      "Clupeoides_borneensis non-diadromous 0.903089987\n",
      "Coilia_nasus diadromous 1.544068044\n",
      "Ehirava_fluviatilis non-diadromous 0.698970004\n",
      "Encrasicholina_devisi non-diadromous 0.903089987\n",
      "Engraulis_eurystole non-diadromous 1.190331698\n",
      "Escualosa_thoracata non-diadromous 1\n",
      "Ethmalosa_fimbriata diadromous 1.544068044\n",
      "Gilchristella_aestuaria non-diadromous 1\n",
      "Hilsa_kelee diadromous 1.387389826\n",
      "Hyperlophus_vittatus non-diadromous 1\n",
      "Jenkinsia_lamprotaenia non-diadromous 0.838849091\n",
      "Microthrissa_congica non-diadromous 0.77815125\n",
      "Pellona_harroweri non-diadromous 1.113943352\n",
      "Pellonula_leonensis diadromous 0.929418926\n",
      "Pellonula_vorax diadromous 1.079181246\n",
      "Potamalosa_richmondia diadromous 1.505149978\n",
      "Ramnogaster_sp non-diadromous 0.903089987\n",
      "Rhinosardinia_bahiensis non-diadromous 0.903089987\n",
      "Sauvagella_robusta non-diadromous 0.672097858\n",
      "Sierrathrissa_leonensis non-diadromous 0.477121255\n",
      "Spratelloides_delicatulus non-diadromous 0.84509804\n",
      "Stolephorus_waitei non-diadromous 0.973127854\n",
      "Stolothrissa_tanganicae non-diadromous 1\n",
      "Sundasalanx_mekongensis non-diadromous 0.447158031\n",
      "Tenualosa_ilisha diadromous 1.77815125\n",
      "Thryssa_cf_dussumieri non-diadromous 1.041392685\n"
     ]
    }
   ],
   "source": [
    "import csv\n",
    "\n",
    "with open(\"Bloom_etal_2018_Reduced_Dataset.csv\", 'r') as homework_file:\n",
    "    csvreader_temp = csv.reader(homework_file)\n",
    "    fields = next(csvreader_temp) #essentially skips the first line --> header line\n",
    "    \n",
    "    for items in csvreader_temp:\n",
    "        taxa = items[0]\n",
    "        dia = items[-1]\n",
    "        log_body_size = items[1]\n",
    "        \n",
    "        print(taxa, dia, log_body_size)"
   ]
  },
  {
   "cell_type": "code",
   "execution_count": 22,
   "metadata": {},
   "outputs": [
    {
     "name": "stdout",
     "output_type": "stream",
     "text": [
      "Alosa_alabamae diadromous 1.707570176 1.707570176\n",
      "Alosa_alosa diadromous 1.77815125 3.485721426\n",
      "Alosa_fallax diadromous 1.77815125 5.263872676\n",
      "Alosa_mediocris diadromous 1.77815125 7.042023926000001\n",
      "Alosa_pseudoharengus diadromous 1.602059991 8.644083917\n",
      "Alosa_sapidissima diadromous 1.790285164 10.434369081\n",
      "Amazonsprattus_scintilla non-diadromous 0.301029996 10.735399077\n",
      "Anchoa_chamensis non-diadromous 0.77815125 11.513550327\n",
      "Anchoa_cubana non-diadromous 0.84509804 12.358648367\n",
      "Anchoa_delicatissima non-diadromous 0.903089987 13.261738354\n",
      "Anchoa_lamprotaenia non-diadromous 0.963787827 14.225526181\n",
      "Anchoa_lyolepis non-diadromous 0.84509804 15.070624221\n",
      "Anchoa_parva non-diadromous 0.77815125 15.848775471\n",
      "Anchoa_schofieldi non-diadromous 0.792391689 16.64116716\n",
      "Anchovia_surinamensis non-diadromous 1.093421685 17.734588844999998\n",
      "Anchoviella_balboae non-diadromous 0.857332496 18.591921341\n",
      "Anchoviella_brevirostris non-diadromous 0.857332496 19.449253837\n",
      "Anchoviella_jamesi non-diadromous 0.698970004 20.148223841\n",
      "Anchoviella_lepidentostole diadromous 1.064457989 21.21268183\n",
      "Anchoviella_manamensis non-diadromous 0.397940009 21.610621839\n",
      "Anodontostoma_chacunda diadromous 1.342422681 22.95304452\n",
      "Cetengraulis_edentulus non-diadromous 1.113943352 24.066987872\n",
      "Chirocentrodon_bleekerianus non-diadromous 0.954242509 25.021230381\n",
      "Clupeichthys_perakensis non-diadromous 0.602059991 25.623290372\n",
      "Clupeoides_borneensis non-diadromous 0.903089987 26.526380359\n",
      "Coilia_nasus diadromous 1.544068044 28.070448403\n",
      "Ehirava_fluviatilis non-diadromous 0.698970004 28.769418407\n",
      "Encrasicholina_devisi non-diadromous 0.903089987 29.672508394\n",
      "Engraulis_eurystole non-diadromous 1.190331698 30.862840092000003\n",
      "Escualosa_thoracata non-diadromous 1.0 31.862840092000003\n",
      "Ethmalosa_fimbriata diadromous 1.544068044 33.406908136000006\n",
      "Gilchristella_aestuaria non-diadromous 1.0 34.406908136000006\n",
      "Hilsa_kelee diadromous 1.387389826 35.79429796200001\n",
      "Hyperlophus_vittatus non-diadromous 1.0 36.79429796200001\n",
      "Jenkinsia_lamprotaenia non-diadromous 0.838849091 37.63314705300001\n",
      "Microthrissa_congica non-diadromous 0.77815125 38.41129830300001\n",
      "Pellona_harroweri non-diadromous 1.113943352 39.52524165500001\n",
      "Pellonula_leonensis diadromous 0.929418926 40.454660581000006\n",
      "Pellonula_vorax diadromous 1.079181246 41.533841827\n",
      "Potamalosa_richmondia diadromous 1.505149978 43.038991805\n",
      "Ramnogaster_sp non-diadromous 0.903089987 43.942081792\n",
      "Rhinosardinia_bahiensis non-diadromous 0.903089987 44.845171779000005\n",
      "Sauvagella_robusta non-diadromous 0.672097858 45.517269637000005\n",
      "Sierrathrissa_leonensis non-diadromous 0.477121255 45.994390892000006\n",
      "Spratelloides_delicatulus non-diadromous 0.84509804 46.83948893200001\n",
      "Stolephorus_waitei non-diadromous 0.973127854 47.81261678600001\n",
      "Stolothrissa_tanganicae non-diadromous 1.0 48.81261678600001\n",
      "Sundasalanx_mekongensis non-diadromous 0.447158031 49.25977481700001\n",
      "Tenualosa_ilisha diadromous 1.77815125 51.03792606700001\n",
      "Thryssa_cf_dussumieri non-diadromous 1.041392685 52.079318752000006\n",
      "sum of log body size 52.079318752000006\n"
     ]
    }
   ],
   "source": [
    "import csv\n",
    "\n",
    "sum = 0.0\n",
    "with open(\"Bloom_etal_2018_Reduced_Dataset.csv\", 'r') as homework_file:\n",
    "    csvreader_temp = csv.reader(homework_file)\n",
    "    fields = next(csvreader_temp) #essentially skips the first line --> header line\n",
    "    \n",
    "    for items in csvreader_temp:\n",
    "        taxa = items[0]\n",
    "        dia = items[-1]\n",
    "        log_body_size = float(items[1])\n",
    "        sum = sum + log_body_size\n",
    "        print(taxa, dia, log_body_size, sum)\n",
    "    print(\"sum of log body size\", sum)"
   ]
  },
  {
   "cell_type": "markdown",
   "metadata": {},
   "source": [
    "ALTERNATIVELY, WE CAN ALSO USE THE FOLLOWING"
   ]
  },
  {
   "cell_type": "code",
   "execution_count": null,
   "metadata": {},
   "outputs": [],
   "source": [
    "import csv\n",
    "\n",
    "\n",
    "def print_taxon_diadromous(filename):\n",
    "    \"\"\"\n",
    "    This function reads a CSV file containing taxon name, diadromous status, and log body size for multiple individuals,\n",
    "    and prints out the taxon name and diadromous status for each individual in the file.\n",
    "\n",
    "    Parameters:\n",
    "        filename (str): The name of the CSV file to read.\n",
    "\n",
    "    Returns:\n",
    "        None\n",
    "    \"\"\"\n",
    "    with open(filename, 'r') as csvfile:\n",
    "        reader = csv.DictReader(csvfile)\n",
    "        for row in reader:\n",
    "            print(f\"Taxon name: {row['taxon_name']}, Diadromous status: {row['diadromous']}\")\n",
    "\n",
    "\n",
    "def sum_log_body_size(filename):\n",
    "    \"\"\"\n",
    "    This function reads a CSV file containing taxon name, diadromous status, and log body size for multiple individuals,\n",
    "    and returns the sum of the log body sizes for all individuals in the file.\n",
    "\n",
    "    Parameters:\n",
    "        filename (str): The name of the CSV file to read.\n",
    "\n",
    "    Returns:\n",
    "        float: The sum of the log body sizes for all individuals in the file.\n",
    "    \"\"\"\n",
    "    with open(filename, 'r') as csvfile:\n",
    "        reader = csv.DictReader(csvfile)\n",
    "        sum_log_size = 0\n",
    "        for row in reader:\n",
    "            sum_log_size += float(row['log_body_size'])\n",
    "    return sum_log_size\n",
    "\n",
    "\n",
    "# example usage\n",
    "filename = 'Bloom_etal_2018_Reduced_Dataset.csv'\n",
    "\n",
    "print_taxon_diadromous(filename) # print out the taxon name and diadromous status for each individual in the file\n",
    "\n",
    "total_log_size = sum_log_body_size(filename) # add up all of the log body sizes and print out the total log body size for all individuals in the file\n",
    "print(f\"The total log body size for all individuals in the file is: {total_log_size}\")\n"
   ]
  },
  {
   "cell_type": "code",
   "execution_count": null,
   "metadata": {},
   "outputs": [],
   "source": []
  }
 ],
 "metadata": {
  "kernelspec": {
   "display_name": "Python 3 (ipykernel)",
   "language": "python",
   "name": "python3"
  },
  "language_info": {
   "codemirror_mode": {
    "name": "ipython",
    "version": 3
   },
   "file_extension": ".py",
   "mimetype": "text/x-python",
   "name": "python",
   "nbconvert_exporter": "python",
   "pygments_lexer": "ipython3",
   "version": "3.9.13"
  }
 },
 "nbformat": 4,
 "nbformat_minor": 4
}
